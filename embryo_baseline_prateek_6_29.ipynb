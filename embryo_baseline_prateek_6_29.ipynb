{
  "nbformat": 4,
  "nbformat_minor": 0,
  "metadata": {
    "colab": {
      "name": "Copy of embryo_baseline_prateek.ipynb",
      "provenance": [],
      "collapsed_sections": [],
      "include_colab_link": true
    },
    "kernelspec": {
      "name": "python3",
      "display_name": "Python 3"
    },
    "accelerator": "GPU"
  },
  "cells": [
    {
      "cell_type": "markdown",
      "metadata": {
        "id": "view-in-github",
        "colab_type": "text"
      },
      "source": [
        "<a href=\"https://colab.research.google.com/github/prateekkalakuntla/Martin-Lab-Machine-Learning/blob/master/embryo_baseline_prateek_6_29.ipynb\" target=\"_parent\"><img src=\"https://colab.research.google.com/assets/colab-badge.svg\" alt=\"Open In Colab\"/></a>"
      ]
    },
    {
      "cell_type": "code",
      "metadata": {
        "id": "DXoLfcvznPF4",
        "colab_type": "code",
        "colab": {
          "base_uri": "https://localhost:8080/",
          "height": 51
        },
        "outputId": "7a710601-37f0-41b9-f923-50b548b84dd0"
      },
      "source": [
        "#mounting drive\n",
        "from google.colab import drive\n",
        "drive.mount('/content/drive')\n",
        "\n",
        "drive.mount(\"/content/drive\", force_remount=True)"
      ],
      "execution_count": 1,
      "outputs": [
        {
          "output_type": "stream",
          "text": [
            "Drive already mounted at /content/drive; to attempt to forcibly remount, call drive.mount(\"/content/drive\", force_remount=True).\n",
            "Mounted at /content/drive\n"
          ],
          "name": "stdout"
        }
      ]
    },
    {
      "cell_type": "code",
      "metadata": {
        "id": "amQaPE14ndxV",
        "colab_type": "code",
        "colab": {
          "base_uri": "https://localhost:8080/",
          "height": 170
        },
        "outputId": "f28d5e77-9844-4a9e-a108-af6279d44a97"
      },
      "source": [
        "# HANNAH ADDED\n",
        "!pip install keras-layer-normalization"
      ],
      "execution_count": 2,
      "outputs": [
        {
          "output_type": "stream",
          "text": [
            "Requirement already satisfied: keras-layer-normalization in /usr/local/lib/python3.6/dist-packages (0.14.0)\n",
            "Requirement already satisfied: numpy in /usr/local/lib/python3.6/dist-packages (from keras-layer-normalization) (1.18.5)\n",
            "Requirement already satisfied: Keras in /usr/local/lib/python3.6/dist-packages (from keras-layer-normalization) (2.3.1)\n",
            "Requirement already satisfied: h5py in /usr/local/lib/python3.6/dist-packages (from Keras->keras-layer-normalization) (2.10.0)\n",
            "Requirement already satisfied: keras-applications>=1.0.6 in /usr/local/lib/python3.6/dist-packages (from Keras->keras-layer-normalization) (1.0.8)\n",
            "Requirement already satisfied: scipy>=0.14 in /usr/local/lib/python3.6/dist-packages (from Keras->keras-layer-normalization) (1.4.1)\n",
            "Requirement already satisfied: pyyaml in /usr/local/lib/python3.6/dist-packages (from Keras->keras-layer-normalization) (3.13)\n",
            "Requirement already satisfied: six>=1.9.0 in /usr/local/lib/python3.6/dist-packages (from Keras->keras-layer-normalization) (1.12.0)\n",
            "Requirement already satisfied: keras-preprocessing>=1.0.5 in /usr/local/lib/python3.6/dist-packages (from Keras->keras-layer-normalization) (1.1.2)\n"
          ],
          "name": "stdout"
        }
      ]
    },
    {
      "cell_type": "code",
      "metadata": {
        "id": "wfTtb0synh5k",
        "colab_type": "code",
        "colab": {}
      },
      "source": [
        "class Config:\n",
        "  DATASET_PATH =\"/content/drive/My Drive/EmbryoMachineLearning/Autoencoder_UCSD/UCSD_Anomaly_Dataset.v1p2/Embryo_Anomaly/Pulsing_Train\"\n",
        "  TEST_PATH = \"/content/drive/My Drive/EmbryoMachineLearning/Autoencoder_UCSD/UCSD_Anomaly_Dataset.v1p2/Embryo_Anomaly/Pulsing_Mutants\"\n",
        "  SINGLE_TEST_PATH = \"/content/drive/My Drive/EmbryoMachineLearning/Autoencoder_UCSD/UCSD_Anomaly_Dataset.v1p2/Embryo_Anomaly/Pulsing_Train/Movie_10\"\n",
        "  #batch size cannot be larger than 20 for color images\n",
        "  BATCH_SIZE = 1\n",
        "  #Past 10 epochs not very valuable\n",
        "  EPOCHS = 10\n",
        "  MODEL_PATH = \"/content/drive/My Drive/EmbryoMachineLearning/Autoencoder_UCSD/UCSD_Anomaly_Dataset.v1p2/embryo_model_prateek_fewer_frames.hdf5\""
      ],
      "execution_count": 23,
      "outputs": []
    },
    {
      "cell_type": "code",
      "metadata": {
        "id": "DSemLtWInmWr",
        "colab_type": "code",
        "colab": {}
      },
      "source": [
        "from os import listdir\n",
        "from os.path import isfile, join, isdir\n",
        "import numpy as np\n",
        "from PIL import Image\n",
        "import random\n",
        "\n",
        "#Code Block 1\n",
        "def get_clips_by_stride(stride, frames_list, sequence_size):\n",
        "    \"\"\" For data augmenting purposes.\n",
        "    Parameters\n",
        "    ----------\n",
        "    stride : int\n",
        "        The distance between two consecutive frames\n",
        "    frames_list : list\n",
        "        A list of sorted frames of shape 256 X 256\n",
        "    sequence_size: int\n",
        "        The size of the lstm sequence\n",
        "    Returns\n",
        "    -------\n",
        "    list\n",
        "      A list of clips , 10 frames each\n",
        "    \"\"\"\n",
        "    clips = []\n",
        "    sz = len(frames_list)\n",
        "    #changed input shape to 3\n",
        "    clip = np.zeros(shape=(sequence_size, 256, 256, 3))\n",
        "    cnt = 0\n",
        "    cnt2 = 0\n",
        "    for start in range(0, stride):\n",
        "        for i in range(start, sz, stride):\n",
        "            clip[cnt, :, :, :] = frames_list[i]\n",
        "            cnt = cnt + 1\n",
        "            if cnt == sequence_size:\n",
        "                clips.append(clip)\n",
        "                clip = np.zeros(shape=(sequence_size, 256, 256, 3))\n",
        "                cnt = 0\n",
        "    return clips\n",
        "\n",
        "#Code Block 2\n",
        "def get_training_set():\n",
        "    \"\"\"\n",
        "    Returns\n",
        "    -------\n",
        "    list\n",
        "        A list of training sequences of shape (NUMBER_OF_SEQUENCES,SINGLE_SEQUENCE_SIZE,FRAME_WIDTH,FRAME_HEIGHT,1)\n",
        "    \"\"\"\n",
        "    new_clips = []\n",
        "    i = 0 \n",
        "    # loop over the training folders (Train000,Train001,..)\n",
        "    new_list = listdir(Config.DATASET_PATH)\n",
        "    random.shuffle(new_list)\n",
        "    list_of_movies = []\n",
        "    for f in new_list:\n",
        "        #Prateek control images, 31 images\n",
        "        print(f)\n",
        "        if f == 'Movie_01' or f == 'Movie_02' or f == 'Movie_03' or f == 'Movie_04' or f == 'Movie_05':\n",
        "          break\n",
        "        i += 1\n",
        "        if i == 11:\n",
        "          break\n",
        "        list_of_movies.append(f)\n",
        "        print(\"looping...\")\n",
        "        directory_path = join(Config.DATASET_PATH, f)\n",
        "        if isdir(directory_path):\n",
        "            all_frames = []\n",
        "            # loop over all the images in the folder (0.tif,1.tif,..,199.tif)\n",
        "            for c in sorted(listdir(directory_path)):\n",
        "                img_path = join(directory_path, c)\n",
        "                if str(img_path)[-3:] == \"jpg\":\n",
        "                    img = Image.open(img_path).resize((256, 256))\n",
        "                    #black and white\n",
        "                    #img = np.dot(img,[.299,.587,.144])\n",
        "                    img = np.array(img)/256\n",
        "                    all_frames.append(img)\n",
        "            #get the 10-frames sequences from the list of images after applying data augmentation\n",
        "            for stride in range(1, 3):\n",
        "                #Increasing number of frames increases the accuracy, 15 is my favorite right now\n",
        "                new_clips.extend(get_clips_by_stride(stride=stride, frames_list=all_frames, sequence_size=15))\n",
        "    print(\"done looping.\")\n",
        "    return new_clips, list_of_movies"
      ],
      "execution_count": 5,
      "outputs": []
    },
    {
      "cell_type": "code",
      "metadata": {
        "id": "hp-CrzpAnn6U",
        "colab_type": "code",
        "colab": {
          "base_uri": "https://localhost:8080/",
          "height": 35
        },
        "outputId": "f8a8c21e-a786-4366-ce9c-ea7ed13185de"
      },
      "source": [
        "import keras\n",
        "from keras.layers import Conv2DTranspose, ConvLSTM2D, BatchNormalization, TimeDistributed, Conv2D\n",
        "from keras.models import Sequential, load_model\n",
        "from keras_layer_normalization import LayerNormalization\n",
        "\n",
        "\n",
        "\n",
        "\n",
        "def get_model(training_set, reload_model):\n",
        "    \"\"\"\n",
        "    Parameters\n",
        "    ----------\n",
        "    reload_model : bool\n",
        "        Load saved model or retrain it\n",
        "    \"\"\"\n",
        "    if not reload_model:\n",
        "        return load_model(Config.MODEL_PATH,custom_objects={'LayerNormalization': LayerNormalization})\n",
        "    print(\"4\")\n",
        "    training_set = np.array(training_set)\n",
        "    print(\"5\")\n",
        "    seq = Sequential()\n",
        "    print(\"6\")\n",
        "\n",
        "    #Prateek changed batch input shape to last item = 3\n",
        "    seq.add(TimeDistributed(Conv2D(128, (11, 11), strides=4, padding=\"same\"), batch_input_shape=(None, 15, 256, 256, 3)))\n",
        "    seq.add(LayerNormalization())\n",
        "    seq.add(TimeDistributed(Conv2D(64, (5, 5), strides=2, padding=\"same\")))\n",
        "    \n",
        "    # # # # #\n",
        "    seq.add(ConvLSTM2D(64, (3, 3), padding=\"same\", return_sequences=True))\n",
        "    seq.add(LayerNormalization())\n",
        "    seq.add(ConvLSTM2D(32, (3, 3), padding=\"same\", return_sequences=True))\n",
        "    seq.add(LayerNormalization())\n",
        "    seq.add(ConvLSTM2D(64, (3, 3), padding=\"same\", return_sequences=True))\n",
        "    seq.add(LayerNormalization())\n",
        "    # # # # #\n",
        "    seq.add(LayerNormalization())\n",
        "    seq.add(TimeDistributed(Conv2DTranspose(64, (5, 5), strides=2, padding=\"same\")))\n",
        "    seq.add(LayerNormalization())\n",
        "    seq.add(TimeDistributed(Conv2DTranspose(128, (11, 11), strides=4, padding=\"same\")))\n",
        "    seq.add(LayerNormalization())\n",
        "    seq.add(TimeDistributed(Conv2D(3, (11, 11), activation=\"sigmoid\", padding=\"same\")))\n",
        "\n",
        "    print(seq.summary())\n",
        "    seq.compile(loss='mse', optimizer=keras.optimizers.Adam(lr=1e-4, decay=1e-5, epsilon=1e-6))\n",
        "    seq.fit(training_set, training_set,\n",
        "            batch_size=Config.BATCH_SIZE, epochs=Config.EPOCHS, shuffle=False)\n",
        "    seq.save(Config.MODEL_PATH)\n",
        "    return seq"
      ],
      "execution_count": 6,
      "outputs": [
        {
          "output_type": "stream",
          "text": [
            "Using TensorFlow backend.\n"
          ],
          "name": "stderr"
        }
      ]
    },
    {
      "cell_type": "code",
      "metadata": {
        "id": "PghC2Y0Rn1gW",
        "colab_type": "code",
        "colab": {}
      },
      "source": [
        "def get_single_test(test):\n",
        "    #Prateek changed sz \n",
        "    sz = len(listdir(test))\n",
        "    final = np.zeros(shape=(sz, 256, 256, 3))\n",
        "    cnt = 0\n",
        "    for f in sorted(listdir(test)):\n",
        "        if str(join(test, f))[-3:] == \"jpg\":\n",
        "            img = Image.open(join(test, f)).resize((256, 256))\n",
        "            #Black and white\n",
        "            #img = np.dot(img, [.299,.587,.144])\n",
        "            img = np.array(img, dtype=np.float32) / 256.0\n",
        "            final[cnt, :, :, :] = img\n",
        "            cnt = cnt + 1\n",
        "    return final"
      ],
      "execution_count": 7,
      "outputs": []
    },
    {
      "cell_type": "code",
      "metadata": {
        "id": "om_AkfTen5E4",
        "colab_type": "code",
        "colab": {}
      },
      "source": [
        "import matplotlib.pyplot as plt\n",
        "\n",
        "def evaluate(training_set, out_model):\n",
        "    print(\"starting\")\n",
        "    model = get_model(training_set, out_model)\n",
        "    # Hannah changed\n",
        "    #model = get_model(False)\n",
        "    print(\"got model\")\n",
        "    test = get_single_test(Config.SINGLE_TEST_PATH)\n",
        "    print(\"got test\")\n",
        "    sz = test.shape[0] - 15\n",
        "    sequences = np.zeros((sz, 15, 256, 256, 3))\n",
        "    # apply the sliding window technique to get the sequences\n",
        "    for i in range(0, sz):\n",
        "        clip = np.zeros((15, 256, 256, 3))\n",
        "        for j in range(0, 15):\n",
        "            clip[j] = test[i + j, :, :, :]\n",
        "        sequences[i] = clip\n",
        "\n",
        "    # get the reconstruction cost of all the sequences\n",
        "    reconstructed_sequences = model.predict(sequences,batch_size=2)\n",
        "    sequences_reconstruction_cost = np.array([np.linalg.norm(np.subtract(sequences[i],reconstructed_sequences[i])) for i in range(0,sz)])\n",
        "    sa = (sequences_reconstruction_cost - np.min(sequences_reconstruction_cost)) / np.max(sequences_reconstruction_cost)\n",
        "    sr = 1.0 - sa\n",
        "\n",
        "    # plot the regularity scores\n",
        "    plt.plot(sr)\n",
        "    plt.ticklabel_format(useOffset=False)\n",
        "    plt.ylabel('regularity score Sr(t)')\n",
        "    plt.xlabel('frame t')\n",
        "    plt.show()"
      ],
      "execution_count": 8,
      "outputs": []
    },
    {
      "cell_type": "code",
      "metadata": {
        "id": "yJkjhkIxwVM6",
        "colab_type": "code",
        "colab": {}
      },
      "source": [
        "#Returns average accuracy for 5 random WT movies that the model has not seen\n",
        "def get_accuracy_WT(list_of_movies):\n",
        "  model = get_model(training_set, False)\n",
        "  new_list = listdir(Config.DATASET_PATH)\n",
        "  random.shuffle(new_list)\n",
        "  total_loss = []\n",
        "  val = 0\n",
        "  for f in new_list:\n",
        "      #Prateek control images, 31 images\n",
        "      if f in list_of_movies:\n",
        "        continue\n",
        "      print(f)\n",
        "      val += 1\n",
        "      print(val)\n",
        "      if val == 6:\n",
        "        break\n",
        "      directory_path = join(Config.DATASET_PATH, f)\n",
        "      test = get_single_test(directory_path)\n",
        "      print(\"got test\")\n",
        "      sz = test.shape[0] - 15\n",
        "      sequences = np.zeros((sz, 15, 256, 256, 3))\n",
        "      # apply the sliding window technique to get the sequences\n",
        "      for i in range(0, sz):\n",
        "          clip = np.zeros((15, 256, 256, 3))\n",
        "          for j in range(0, 15):\n",
        "              clip[j] = test[i + j, :, :, :]\n",
        "          sequences[i] = clip\n",
        "  \n",
        "      reconstructed_sequences = model.predict(sequences,batch_size=2)\n",
        "      sequences_reconstruction_cost = np.array([np.linalg.norm(np.subtract(sequences[i],reconstructed_sequences[i])) for i in range(0,sz)])\n",
        "      sa = (sequences_reconstruction_cost - np.min(sequences_reconstruction_cost)) / np.max(sequences_reconstruction_cost)\n",
        "      loss = 1 - sum(sa)/len(sa)\n",
        "      total_loss.append((loss, f))\n",
        "  return total_loss\n",
        "\n",
        "def get_accuracy_mut():\n",
        "  model = get_model(training_set, False)\n",
        "  new_list = listdir(Config.TEST_PATH)\n",
        "  total_loss = []\n",
        "  for f in new_list:\n",
        "      #Prateek control images, 31 images\n",
        "      directory_path = join(Config.TEST_PATH, f)\n",
        "      test = get_single_test(directory_path)\n",
        "      print(\"got test\")\n",
        "      sz = test.shape[0] - 15\n",
        "      sequences = np.zeros((sz, 15, 256, 256, 3))\n",
        "      # apply the sliding window technique to get the sequences\n",
        "      for i in range(0, sz):\n",
        "          clip = np.zeros((15, 256, 256, 3))\n",
        "          for j in range(0, 15):\n",
        "              clip[j] = test[i + j, :, :, :]\n",
        "          sequences[i] = clip\n",
        "      reconstructed_sequences = model.predict(sequences,batch_size=2)\n",
        "      sequences_reconstruction_cost = np.array([np.linalg.norm(np.subtract(sequences[i],reconstructed_sequences[i])) for i in range(0,sz)])\n",
        "      sa = (sequences_reconstruction_cost - np.min(sequences_reconstruction_cost)) / np.max(sequences_reconstruction_cost)\n",
        "      loss = 1 - sum(sa)/len(sa)\n",
        "      total_loss.append((loss, f))\n",
        "  return total_loss\n",
        "        "
      ],
      "execution_count": 18,
      "outputs": []
    },
    {
      "cell_type": "code",
      "metadata": {
        "id": "gQUrB-Lmn7MK",
        "colab_type": "code",
        "colab": {
          "base_uri": "https://localhost:8080/",
          "height": 391
        },
        "outputId": "3eb4e3ad-8d28-42b9-9905-4dc3ebfd6370"
      },
      "source": [
        "training_set, list_of_movies = get_training_set()"
      ],
      "execution_count": 10,
      "outputs": [
        {
          "output_type": "stream",
          "text": [
            "Movie_11\n",
            "looping...\n",
            "Movie_14\n",
            "looping...\n",
            "Movie_17\n",
            "looping...\n",
            "Movie_16\n",
            "looping...\n",
            "Movie_19\n",
            "looping...\n",
            "Movie_6\n",
            "looping...\n",
            "Movie_12\n",
            "looping...\n",
            "Movie_8\n",
            "looping...\n",
            "Movie_31\n",
            "looping...\n",
            "Movie_2\n",
            "looping...\n",
            "Movie_23\n",
            "done looping.\n"
          ],
          "name": "stdout"
        }
      ]
    },
    {
      "cell_type": "code",
      "metadata": {
        "id": "rcZ1_wZV2_Eh",
        "colab_type": "code",
        "colab": {}
      },
      "source": [
        "###Run this code to see what images the machine learning model is taking in! Seperates every 10 images (if you are using more or fewer images\n",
        "###together can update for that by changing count == n where n is the number of frames the model sees at a time)\n",
        "import time\n",
        "count = 0\n",
        "print(len(training_set))\n",
        "for j in range(len(training_set)):\n",
        "  print(training_set[j].shape)\n",
        "  for i in range(len(training_set[j])):\n",
        "    new_training_set = (training_set[j][i]*255).astype(np.uint8)\n",
        "    img = Image.fromarray(new_training_set, 'RGB')\n",
        "    display(img)\n",
        "    count += 1\n",
        "    if count == 10:\n",
        "      count = 0\n",
        "      print('--------------------------------------')\n",
        "    time.sleep(1)"
      ],
      "execution_count": null,
      "outputs": []
    },
    {
      "cell_type": "code",
      "metadata": {
        "id": "k3m1fGACvraE",
        "colab_type": "code",
        "colab": {
          "base_uri": "https://localhost:8080/",
          "height": 1000
        },
        "outputId": "e4ee5bf5-91a5-4575-f3aa-b8790801878b"
      },
      "source": [
        "evaluate(training_set, True)"
      ],
      "execution_count": 11,
      "outputs": [
        {
          "output_type": "stream",
          "text": [
            "starting\n",
            "4\n",
            "5\n",
            "6\n",
            "Model: \"sequential_1\"\n",
            "_________________________________________________________________\n",
            "Layer (type)                 Output Shape              Param #   \n",
            "=================================================================\n",
            "time_distributed_1 (TimeDist (None, 15, 64, 64, 128)   46592     \n",
            "_________________________________________________________________\n",
            "layer_normalization_1 (Layer (None, 15, 64, 64, 128)   256       \n",
            "_________________________________________________________________\n",
            "time_distributed_2 (TimeDist (None, 15, 32, 32, 64)    204864    \n",
            "_________________________________________________________________\n",
            "conv_lst_m2d_1 (ConvLSTM2D)  (None, 15, 32, 32, 64)    295168    \n",
            "_________________________________________________________________\n",
            "layer_normalization_2 (Layer (None, 15, 32, 32, 64)    128       \n",
            "_________________________________________________________________\n",
            "conv_lst_m2d_2 (ConvLSTM2D)  (None, 15, 32, 32, 32)    110720    \n",
            "_________________________________________________________________\n",
            "layer_normalization_3 (Layer (None, 15, 32, 32, 32)    64        \n",
            "_________________________________________________________________\n",
            "conv_lst_m2d_3 (ConvLSTM2D)  (None, 15, 32, 32, 64)    221440    \n",
            "_________________________________________________________________\n",
            "layer_normalization_4 (Layer (None, 15, 32, 32, 64)    128       \n",
            "_________________________________________________________________\n",
            "layer_normalization_5 (Layer (None, 15, 32, 32, 64)    128       \n",
            "_________________________________________________________________\n",
            "time_distributed_3 (TimeDist (None, 15, 64, 64, 64)    102464    \n",
            "_________________________________________________________________\n",
            "layer_normalization_6 (Layer (None, 15, 64, 64, 64)    128       \n",
            "_________________________________________________________________\n",
            "time_distributed_4 (TimeDist (None, 15, 256, 256, 128) 991360    \n",
            "_________________________________________________________________\n",
            "layer_normalization_7 (Layer (None, 15, 256, 256, 128) 256       \n",
            "_________________________________________________________________\n",
            "time_distributed_5 (TimeDist (None, 15, 256, 256, 3)   46467     \n",
            "=================================================================\n",
            "Total params: 2,020,163\n",
            "Trainable params: 2,020,163\n",
            "Non-trainable params: 0\n",
            "_________________________________________________________________\n",
            "None\n",
            "Epoch 1/10\n",
            "92/92 [==============================] - 71s 773ms/step - loss: 0.0190\n",
            "Epoch 2/10\n",
            "92/92 [==============================] - 60s 652ms/step - loss: 0.0080\n",
            "Epoch 3/10\n",
            "92/92 [==============================] - 60s 654ms/step - loss: 0.0057\n",
            "Epoch 4/10\n",
            "92/92 [==============================] - 60s 652ms/step - loss: 0.0051\n",
            "Epoch 5/10\n",
            "92/92 [==============================] - 60s 655ms/step - loss: 0.0048\n",
            "Epoch 6/10\n",
            "92/92 [==============================] - 60s 653ms/step - loss: 0.0044\n",
            "Epoch 7/10\n",
            "92/92 [==============================] - 60s 652ms/step - loss: 0.0041\n",
            "Epoch 8/10\n",
            "92/92 [==============================] - 60s 653ms/step - loss: 0.0040\n",
            "Epoch 9/10\n",
            "92/92 [==============================] - 60s 652ms/step - loss: 0.0039\n",
            "Epoch 10/10\n",
            "92/92 [==============================] - 60s 652ms/step - loss: 0.0038\n",
            "got model\n",
            "got test\n"
          ],
          "name": "stdout"
        },
        {
          "output_type": "display_data",
          "data": {
            "image/png": "[encoded data removed]",
            "text/plain": [
              "<Figure size 432x288 with 1 Axes>"
            ]
          },
          "metadata": {
            "tags": [],
            "needs_background": "light"
          }
        }
      ]
    },
    {
      "cell_type": "code",
      "metadata": {
        "id": "fTFtHYOw0-KZ",
        "colab_type": "code",
        "colab": {
          "base_uri": "https://localhost:8080/",
          "height": 408
        },
        "outputId": "41eac7f5-9c2e-4ceb-adc5-d2bc3b4b0876"
      },
      "source": [
        "print(get_accuracy_WT(list_of_movies))\n",
        "print(get_accuracy_mut())"
      ],
      "execution_count": 24,
      "outputs": [
        {
          "output_type": "stream",
          "text": [
            "Movie_20\n",
            "1\n",
            "got test\n",
            "Movie_30\n",
            "2\n",
            "got test\n",
            "Movie_33\n",
            "3\n",
            "got test\n",
            "Movie_21\n",
            "4\n",
            "got test\n",
            "Movie_9\n",
            "5\n",
            "got test\n",
            "Movie_26\n",
            "6\n",
            "[(0.09027336332499611, 'Movie_20'), (0.06866772743203753, 'Movie_30'), (0.1066359084117012, 'Movie_33'), (0.09305900587623779, 'Movie_21'), (0.09368018234513745, 'Movie_9')]\n",
            "got test\n",
            "got test\n",
            "got test\n",
            "got test\n",
            "[(0.0343838417087487, 'Spn_01'), (0.03556531240156787, 'Spn_02'), (0.14028606884359207, 'SPN_6'), (0.23704111258956825, 'Test_errorinMovie_01')]\n"
          ],
          "name": "stdout"
        }
      ]
    }
  ]
}